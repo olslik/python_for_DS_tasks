{
 "cells": [
  {
   "cell_type": "markdown",
   "id": "5b1cae7d",
   "metadata": {},
   "source": [
    "1.Задане значення у змінній var. Перетворіть значення в змінній var на цілочисельне, запишіть в нову змінну `var_int` та виведіть тип нової змінної `var_int`."
   ]
  },
  {
   "cell_type": "code",
   "execution_count": 2,
   "id": "d93f77ed",
   "metadata": {
    "ExecuteTime": {
     "end_time": "2023-06-13T11:52:35.489925Z",
     "start_time": "2023-06-13T11:52:35.487238Z"
    }
   },
   "outputs": [],
   "source": [
    "var = '1224'"
   ]
  },
  {
   "cell_type": "code",
   "execution_count": 3,
   "id": "5a4afe8f",
   "metadata": {},
   "outputs": [
    {
     "name": "stdout",
     "output_type": "stream",
     "text": [
      "<class 'int'>\n"
     ]
    }
   ],
   "source": [
    "var_int = int(var)\n",
    "print(type(var_int))"
   ]
  },
  {
   "cell_type": "markdown",
   "id": "eb3d19d8",
   "metadata": {
    "ExecuteTime": {
     "end_time": "2023-06-13T13:00:19.611699Z",
     "start_time": "2023-06-13T13:00:19.607737Z"
    }
   },
   "source": [
    "2.У Вас є список слів. Виведіть кожне третє слово в списку."
   ]
  },
  {
   "cell_type": "code",
   "execution_count": 4,
   "id": "477f4ced",
   "metadata": {
    "ExecuteTime": {
     "end_time": "2023-06-13T13:00:02.052801Z",
     "start_time": "2023-06-13T13:00:02.048798Z"
    }
   },
   "outputs": [],
   "source": [
    "words = [\"apple\", \"banana\", \"cherry\", \"date\", \"elderberry\", \"fig\", \"grape\", \"honeydew\", \"ice cream\", \"jackfruit\", \"kiwi\", \"lemon\", \"mango\", \"nectarine\", \"orange\", \"pineapple\", \"quince\", \"raspberry\", \"strawberry\", \"tangerine\", \"ugli fruit\", \"vanilla\", \"watermelon\", \"xigua\", \"yam\", \"zucchini\"]"
   ]
  },
  {
   "cell_type": "code",
   "execution_count": 5,
   "id": "1b73ca2f",
   "metadata": {},
   "outputs": [
    {
     "name": "stdout",
     "output_type": "stream",
     "text": [
      "cherry\n",
      "fig\n",
      "ice cream\n",
      "lemon\n",
      "orange\n",
      "raspberry\n",
      "ugli fruit\n",
      "xigua\n"
     ]
    }
   ],
   "source": [
    "for i in range(2,len(words),3):\n",
    "    print(words[i])"
   ]
  },
  {
   "cell_type": "markdown",
   "id": "394d1dea",
   "metadata": {},
   "source": [
    "3.Скільки всього СЛІВ у списку `words`?"
   ]
  },
  {
   "cell_type": "code",
   "execution_count": 6,
   "id": "83c88182",
   "metadata": {},
   "outputs": [
    {
     "name": "stdout",
     "output_type": "stream",
     "text": [
      "26\n"
     ]
    }
   ],
   "source": [
    "print(len(words))"
   ]
  },
  {
   "cell_type": "markdown",
   "id": "703d1620",
   "metadata": {
    "ExecuteTime": {
     "end_time": "2023-06-13T13:03:17.414285Z",
     "start_time": "2023-06-13T13:03:17.409285Z"
    }
   },
   "source": [
    "4.Скільки всього ЛІТЕР в усіх словах у списку words?"
   ]
  },
  {
   "cell_type": "code",
   "execution_count": 7,
   "id": "c44d04d9",
   "metadata": {},
   "outputs": [
    {
     "name": "stdout",
     "output_type": "stream",
     "text": [
      "180\n"
     ]
    }
   ],
   "source": [
    "letters = 0\n",
    "for i in range(len(words)):\n",
    "    letters += len(words[i])\n",
    "print(letters)"
   ]
  },
  {
   "cell_type": "markdown",
   "id": "4c95f6a3",
   "metadata": {},
   "source": [
    "5.Скільки разів зустрічається кожна літера в усіх словах списку `words`? Відсортуйте літери в результуючому словнику за алфавітним порядком."
   ]
  },
  {
   "cell_type": "code",
   "execution_count": 8,
   "id": "f6cff6cb",
   "metadata": {},
   "outputs": [
    {
     "data": {
      "text/plain": [
       "{' ': 2,\n",
       " 'a': 20,\n",
       " 'b': 4,\n",
       " 'c': 8,\n",
       " 'd': 3,\n",
       " 'e': 24,\n",
       " 'f': 3,\n",
       " 'g': 7,\n",
       " 'h': 3,\n",
       " 'i': 15,\n",
       " 'j': 1,\n",
       " 'k': 2,\n",
       " 'l': 8,\n",
       " 'm': 5,\n",
       " 'n': 15,\n",
       " 'o': 5,\n",
       " 'p': 7,\n",
       " 'q': 1,\n",
       " 'r': 19,\n",
       " 's': 2,\n",
       " 't': 7,\n",
       " 'u': 6,\n",
       " 'v': 1,\n",
       " 'w': 4,\n",
       " 'x': 1,\n",
       " 'y': 6,\n",
       " 'z': 1}"
      ]
     },
     "metadata": {},
     "output_type": "display_data"
    }
   ],
   "source": [
    "words_sum = \"\".join(words)\n",
    "words_unique = sorted(list(set(words_sum)))\n",
    "words_final = {words_unique[i] : words_sum.count(words_unique[i]) for i in range (len(words_unique))}\n",
    "display(words_final)"
   ]
  },
  {
   "cell_type": "markdown",
   "id": "94d9f1cc",
   "metadata": {},
   "source": [
    "Очікуваний результат: \n",
    "```\n",
    "{' ': 2,\n",
    " 'a': 20,\n",
    " 'b': 4,\n",
    " 'c': 8,\n",
    " 'd': 3,\n",
    " 'e': 24,\n",
    " 'f': 3,\n",
    " 'g': 7,\n",
    " 'h': 3,\n",
    " 'i': 15,\n",
    " 'j': 1,\n",
    " 'k': 2,\n",
    " 'l': 8,\n",
    " 'm': 5,\n",
    " 'n': 15,\n",
    " 'o': 5,\n",
    " 'p': 7,\n",
    " 'q': 1,\n",
    " 'r': 19,\n",
    " 's': 2,\n",
    " 't': 7,\n",
    " 'u': 6,\n",
    " 'v': 1,\n",
    " 'w': 4,\n",
    " 'x': 1,\n",
    " 'y': 6,\n",
    " 'z': 1}\n",
    " ```"
   ]
  },
  {
   "cell_type": "markdown",
   "id": "c93ac384",
   "metadata": {},
   "source": [
    "6.Використовуючи результат виконання попереднього завдання, виведіть на екран ту літеру, яка зустрічається найчастіше і скільки разів вона зустрічається. Це треба зробити програмно, а не просто подививщись на дані :) "
   ]
  },
  {
   "cell_type": "code",
   "execution_count": 13,
   "id": "9ddfb851",
   "metadata": {},
   "outputs": [
    {
     "name": "stdout",
     "output_type": "stream",
     "text": [
      "e : 24\n"
     ]
    }
   ],
   "source": [
    "for key, value in words_final.items():\n",
    "    if value == max(words_final.values()):\n",
    "        print(key, \":\", value)\n"
   ]
  },
  {
   "cell_type": "markdown",
   "id": "f40adbed",
   "metadata": {},
   "source": [
    "7.Для кожного елементу списку виведіть тип елемену. Якщо тип обʼєкту - int (тільки цей тип безпосередньо!), виведіть результат піднесення цього числа до степеню 5."
   ]
  },
  {
   "cell_type": "code",
   "execution_count": 14,
   "id": "f92249ac",
   "metadata": {
    "ExecuteTime": {
     "end_time": "2023-06-13T12:53:04.365735Z",
     "start_time": "2023-06-13T12:53:04.362441Z"
    }
   },
   "outputs": [],
   "source": [
    "elements = [12, 'type', 'Bob', True, 'False', 1.414, 1444.333, 123/33, 5]"
   ]
  },
  {
   "cell_type": "code",
   "execution_count": 15,
   "id": "96b72186",
   "metadata": {},
   "outputs": [
    {
     "name": "stdout",
     "output_type": "stream",
     "text": [
      "The element #0 = 12 and has type <class 'int'> . We can take it to power 5. The result is 248832 .\n",
      "The element #1 = type and has type <class 'str'> .\n",
      "The element #2 = Bob and has type <class 'str'> .\n",
      "The element #3 = True and has type <class 'bool'> .\n",
      "The element #4 = False and has type <class 'str'> .\n",
      "The element #5 = 1.414 and has type <class 'float'> .\n",
      "The element #6 = 1444.333 and has type <class 'float'> .\n",
      "The element #7 = 3.727272727272727 and has type <class 'float'> .\n",
      "The element #8 = 5 and has type <class 'int'> . We can take it to power 5. The result is 3125 .\n"
     ]
    }
   ],
   "source": [
    "for i in range(len(elements)):\n",
    "    if type(elements[i]) == int:\n",
    "        print('The element #' + str(i), '=', elements[i], 'and has type', type(elements[i]),\n",
    "              '. We can take it to power 5. The result is', elements[i]**5, '.')\n",
    "    else:\n",
    "        print('The element #' + str(i), '=', elements[i], 'and has type', type(elements[i]),'.')"
   ]
  },
  {
   "cell_type": "markdown",
   "id": "cf2247c7",
   "metadata": {
    "ExecuteTime": {
     "end_time": "2023-06-13T12:55:17.795510Z",
     "start_time": "2023-06-13T12:55:17.787158Z"
    }
   },
   "source": [
    "Приклад очікуваного результату (текстові коментарі і форматування можуть бути іншими):\n",
    "```\n",
    "    The type of element 12 is <class 'int'>\n",
    "    This is a number! Let't take it to power 5! The result is: 248832\n",
    "    The type of element type is <class 'str'>\n",
    "    The type of element Bob is <class 'str'>\n",
    "    The type of element True is <class 'bool'>\n",
    "    The type of element False is <class 'str'>\n",
    "    The type of element 1.414 is <class 'float'>\n",
    "    The type of element 1444.333 is <class 'float'>\n",
    "    The type of element 3.727272727272727 is <class 'float'>\n",
    "    The type of element 5 is <class 'int'>\n",
    "    This is a number! Let't take it to power 5! The result is: 3125\n",
    "```"
   ]
  },
  {
   "cell_type": "markdown",
   "id": "76a0bef2",
   "metadata": {},
   "source": [
    "8.Створіть програму, яка:\n",
    "\n",
    "- Для визначених значень `name` та `age` друкує повідомлення \"Привіт, [Ім’я] ! Вам [Вік] років.\".\n",
    "- Обчислює, скільки років залишилося користувачеві до 100 років, і друкує повідомлення з цією інформацією: \"До 100 років Вам лишилось [Число] років.\"  \n",
    "\n",
    "Запустіть програму для набору користувачів нижче."
   ]
  },
  {
   "cell_type": "code",
   "execution_count": 16,
   "id": "0092963a",
   "metadata": {
    "ExecuteTime": {
     "end_time": "2023-06-13T12:30:11.462941Z",
     "start_time": "2023-06-13T12:30:11.459673Z"
    }
   },
   "outputs": [],
   "source": [
    "users = [\n",
    "    ['Karl', 30],\n",
    "    ['Klara', 15],\n",
    "    ['Alexis', 56],\n",
    "    ['Charles', 99]\n",
    "]"
   ]
  },
  {
   "cell_type": "code",
   "execution_count": 17,
   "id": "8d6d820e",
   "metadata": {},
   "outputs": [
    {
     "name": "stdout",
     "output_type": "stream",
     "text": [
      "Привіт, Karl ! Вам 30 років. До 100 років Вам лишилось 70 років.\n",
      "Привіт, Klara ! Вам 15 років. До 100 років Вам лишилось 85 років.\n",
      "Привіт, Alexis ! Вам 56 років. До 100 років Вам лишилось 44 років.\n",
      "Привіт, Charles ! Вам 99 років. До 100 років Вам лишилось 1 років.\n"
     ]
    }
   ],
   "source": [
    "for i in range(len(users)):\n",
    "    name = users[i][0]\n",
    "    age = users[i][1]\n",
    "    print('Привіт,', name, '! Вам', age, 'років. До 100 років Вам лишилось', 100 - age,'років.')"
   ]
  },
  {
   "cell_type": "markdown",
   "id": "45fedbc4",
   "metadata": {},
   "source": [
    "9.Напишть фрагмент коду, який перевіряє, чи слово є паліндромом. Слово (або фраза) є паліндромом, якщо при читанні його зворотньому напрямі буде таке саме слово.\n",
    "Наприклад, слово \"radar\" є паліндромом, але \"radix\" не є паліндромом. Код в кінці має видавати результат True або False.  \n",
    "Код має звертати увагу лише на символи-літери. Регістр літер не має значення, а знаки пунктуації (кома, крапка) та `-+=/\\`` мають бути вилучені з рядка перед перевіркою. Так само, пробіли не впливають на визначення,чи слово є палендромом. Мають значення лише літери.\n",
    "Тобто рядки \"A mam, a\" та \"A mamA\" є паліндромами, а \"AmamU\" - ні.\n",
    "\n",
    "Опціонально ви можете розмістити код на перевірку чи є слово паліндромом у фукнцію.\n",
    "Запустіть свій код для рядків з набору нижче і виведіть результат перевірки на екран для кожного рядка."
   ]
  },
  {
   "cell_type": "code",
   "execution_count": 18,
   "id": "4cca3eed",
   "metadata": {
    "ExecuteTime": {
     "end_time": "2023-06-13T12:24:02.288183Z",
     "start_time": "2023-06-13T12:24:02.285245Z"
    }
   },
   "outputs": [],
   "source": [
    "phrases_to_check = [\n",
    "    'radar',\n",
    "    'radix',\n",
    "    'A mam, a',\n",
    "    'A mamA',\n",
    "    'Sit on a potato pan Otis',\n",
    "    'Taco cat.',\n",
    "    'Taco cat',\n",
    "    'Tornado',\n",
    "    \"Go hang a salami, I'm a lasagna hog.\"\n",
    "]"
   ]
  },
  {
   "cell_type": "code",
   "execution_count": 19,
   "id": "becbec3c",
   "metadata": {},
   "outputs": [
    {
     "name": "stdout",
     "output_type": "stream",
     "text": [
      "radar - True\n",
      "radix - False\n",
      "A mam, a - True\n",
      "A mamA - True\n",
      "Sit on a potato pan Otis - True\n",
      "Taco cat. - True\n",
      "Taco cat - True\n",
      "Tornado - False\n",
      "Go hang a salami, I'm a lasagna hog. - True\n"
     ]
    }
   ],
   "source": [
    "for i in range(len(phrases_to_check)):\n",
    "    word = phrases_to_check[i]\n",
    "    word_new = ''\n",
    "    for letter in word:\n",
    "        if letter.isalpha() == True:\n",
    "            word_new += letter.lower()\n",
    "        else:\n",
    "            continue\n",
    "    print(word, '-', word_new == word_new[::-1])\n",
    "    "
   ]
  },
  {
   "cell_type": "markdown",
   "id": "e51c421d",
   "metadata": {},
   "source": [
    "Очкувані результати обчислень:\n",
    "```\n",
    "    radar - True\n",
    "    radix - False\n",
    "    A mam, a - True\n",
    "    A mamA - True\n",
    "    Sit on a potato pan Otis - True\n",
    "    Taco cat. - True\n",
    "    Taco cat - True\n",
    "    Tornado - False\n",
    "    Go hang a salami, I'm a lasagna hog. - True\n",
    "```"
   ]
  }
 ],
 "metadata": {
  "kernelspec": {
   "display_name": "Python 3 (ipykernel)",
   "language": "python",
   "name": "python3"
  },
  "language_info": {
   "codemirror_mode": {
    "name": "ipython",
    "version": 3
   },
   "file_extension": ".py",
   "mimetype": "text/x-python",
   "name": "python",
   "nbconvert_exporter": "python",
   "pygments_lexer": "ipython3",
   "version": "3.11.5"
  },
  "toc": {
   "base_numbering": 1,
   "nav_menu": {},
   "number_sections": true,
   "sideBar": true,
   "skip_h1_title": false,
   "title_cell": "Table of Contents",
   "title_sidebar": "Contents",
   "toc_cell": false,
   "toc_position": {},
   "toc_section_display": true,
   "toc_window_display": false
  }
 },
 "nbformat": 4,
 "nbformat_minor": 5
}
